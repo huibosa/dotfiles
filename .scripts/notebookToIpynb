#!/bin/bash

# convert all *.py file to *.ipynb

if [[ $# -eq 0 ]]; then
  read -p "To convert all .py to .ipynb recursively, type \"convert\": "

  if [[ "$REPLY" == "convert" ]]; then
    find . -type f -name '*.py' -exec jupytext --to notebook {} +
  fi
else
  jupytext --to notebook "$@"
fi
