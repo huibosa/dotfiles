#!/bin/bash

# convert all *.py file to *.ipynb

read -p "To convert all .py to .ipynb recursively, type \"convert\": " input

if [[ "${input}" == "convert" ]]; then
  find . -type f -name '*.py' -exec jupytext --to notebook {} +
fi
